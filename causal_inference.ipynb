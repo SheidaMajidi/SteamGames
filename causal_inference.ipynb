{
 "cells": [
  {
   "cell_type": "markdown",
   "metadata": {},
   "source": [
    "## SteamGames\n",
    "#### Sheida Majidi"
   ]
  },
  {
   "cell_type": "markdown",
   "metadata": {},
   "source": [
    "# causal inference project"
   ]
  },
  {
   "cell_type": "code",
   "execution_count": 1,
   "metadata": {},
   "outputs": [],
   "source": [
    "import sys\n",
    "import pandas as pd\n",
    "import numpy as np\n",
    "from packaging import version\n",
    "import sklearn\n",
    "import ast\n",
    "from sklearn.model_selection import train_test_split, cross_validate, KFold\n",
    "from sklearn.compose import ColumnTransformer\n",
    "from sklearn.pipeline import Pipeline\n",
    "from sklearn.impute import SimpleImputer\n",
    "from sklearn.preprocessing import StandardScaler, OneHotEncoder\n",
    "from catboost import CatBoostRegressor\n",
    "import matplotlib.pyplot as plt\n",
    "import seaborn as sns\n",
    "from sklearn.decomposition import PCA\n",
    "assert sys.version_info >= (3, 7)\n",
    "assert version.parse(sklearn.__version__) >= version.parse(\"1.0.1\")"
   ]
  },
  {
   "cell_type": "markdown",
   "metadata": {},
   "source": [
    "### Load Data"
   ]
  },
  {
   "cell_type": "code",
   "execution_count": 2,
   "metadata": {},
   "outputs": [],
   "source": [
    "from pathlib import Path\n",
    "import pandas as pd\n",
    "import tarfile\n",
    "import urllib.request\n",
    "\n",
    "def load_games_data():\n",
    "    tarball_path = Path(\"/Users/sheidamajidi/Desktop/Winter2024/COURSES/INSY695/Individual Assignments/ML1/games.csv\")\n",
    "    if not tarball_path.is_file():\n",
    "        Path(\"datasets\").mkdir(parents=True, exist_ok=True)\n",
    "        url = \"https://www.kaggle.com/datasets/mexwell/steamgames/data\"\n",
    "        urllib.request.urlretrieve(url, tarball_path)\n",
    "        with tarfile.open(tarball_path) as games_tarball:\n",
    "            games_tarball.extractall(path=\"datasets\")\n",
    "    return pd.read_csv(Path(\"/Users/sheidamajidi/Desktop/Winter2024/COURSES/INSY695/Individual Assignments/ML1/games.csv\"))\n",
    "\n",
    "games = load_games_data()"
   ]
  },
  {
   "cell_type": "markdown",
   "metadata": {},
   "source": [
    "### Preprocess Data"
   ]
  },
  {
   "cell_type": "code",
   "execution_count": 3,
   "metadata": {},
   "outputs": [
    {
     "data": {
      "text/html": [
       "<div>\n",
       "<style scoped>\n",
       "    .dataframe tbody tr th:only-of-type {\n",
       "        vertical-align: middle;\n",
       "    }\n",
       "\n",
       "    .dataframe tbody tr th {\n",
       "        vertical-align: top;\n",
       "    }\n",
       "\n",
       "    .dataframe thead th {\n",
       "        text-align: right;\n",
       "    }\n",
       "</style>\n",
       "<table border=\"1\" class=\"dataframe\">\n",
       "  <thead>\n",
       "    <tr style=\"text-align: right;\">\n",
       "      <th></th>\n",
       "      <th>AppID</th>\n",
       "      <th>Name</th>\n",
       "      <th>Release date</th>\n",
       "      <th>Estimated owners</th>\n",
       "      <th>Peak CCU</th>\n",
       "      <th>Required age</th>\n",
       "      <th>Price</th>\n",
       "      <th>DLC count</th>\n",
       "      <th>About the game</th>\n",
       "      <th>Supported languages</th>\n",
       "      <th>...</th>\n",
       "      <th>Average playtime two weeks</th>\n",
       "      <th>Median playtime forever</th>\n",
       "      <th>Median playtime two weeks</th>\n",
       "      <th>Developers</th>\n",
       "      <th>Publishers</th>\n",
       "      <th>Categories</th>\n",
       "      <th>Genres</th>\n",
       "      <th>Tags</th>\n",
       "      <th>Screenshots</th>\n",
       "      <th>Movies</th>\n",
       "    </tr>\n",
       "  </thead>\n",
       "  <tbody>\n",
       "    <tr>\n",
       "      <th>0</th>\n",
       "      <td>20200</td>\n",
       "      <td>Galactic Bowling</td>\n",
       "      <td>Oct 21, 2008</td>\n",
       "      <td>0 - 20000</td>\n",
       "      <td>0</td>\n",
       "      <td>0</td>\n",
       "      <td>19.99</td>\n",
       "      <td>0</td>\n",
       "      <td>Galactic Bowling is an exaggerated and stylize...</td>\n",
       "      <td>['English']</td>\n",
       "      <td>...</td>\n",
       "      <td>0</td>\n",
       "      <td>0</td>\n",
       "      <td>0</td>\n",
       "      <td>Perpetual FX Creative</td>\n",
       "      <td>Perpetual FX Creative</td>\n",
       "      <td>Single-player,Multi-player,Steam Achievements,...</td>\n",
       "      <td>Casual,Indie,Sports</td>\n",
       "      <td>Indie,Casual,Sports,Bowling</td>\n",
       "      <td>https://cdn.akamai.steamstatic.com/steam/apps/...</td>\n",
       "      <td>http://cdn.akamai.steamstatic.com/steam/apps/2...</td>\n",
       "    </tr>\n",
       "    <tr>\n",
       "      <th>1</th>\n",
       "      <td>655370</td>\n",
       "      <td>Train Bandit</td>\n",
       "      <td>Oct 12, 2017</td>\n",
       "      <td>0 - 20000</td>\n",
       "      <td>0</td>\n",
       "      <td>0</td>\n",
       "      <td>0.99</td>\n",
       "      <td>0</td>\n",
       "      <td>THE LAW!! Looks to be a showdown atop a train....</td>\n",
       "      <td>['English', 'French', 'Italian', 'German', 'Sp...</td>\n",
       "      <td>...</td>\n",
       "      <td>0</td>\n",
       "      <td>0</td>\n",
       "      <td>0</td>\n",
       "      <td>Rusty Moyher</td>\n",
       "      <td>Wild Rooster</td>\n",
       "      <td>Single-player,Steam Achievements,Full controll...</td>\n",
       "      <td>Action,Indie</td>\n",
       "      <td>Indie,Action,Pixel Graphics,2D,Retro,Arcade,Sc...</td>\n",
       "      <td>https://cdn.akamai.steamstatic.com/steam/apps/...</td>\n",
       "      <td>http://cdn.akamai.steamstatic.com/steam/apps/2...</td>\n",
       "    </tr>\n",
       "    <tr>\n",
       "      <th>2</th>\n",
       "      <td>1732930</td>\n",
       "      <td>Jolt Project</td>\n",
       "      <td>Nov 17, 2021</td>\n",
       "      <td>0 - 20000</td>\n",
       "      <td>0</td>\n",
       "      <td>0</td>\n",
       "      <td>4.99</td>\n",
       "      <td>0</td>\n",
       "      <td>Jolt Project: The army now has a new robotics ...</td>\n",
       "      <td>['English', 'Portuguese - Brazil']</td>\n",
       "      <td>...</td>\n",
       "      <td>0</td>\n",
       "      <td>0</td>\n",
       "      <td>0</td>\n",
       "      <td>Campião Games</td>\n",
       "      <td>Campião Games</td>\n",
       "      <td>Single-player</td>\n",
       "      <td>Action,Adventure,Indie,Strategy</td>\n",
       "      <td>NaN</td>\n",
       "      <td>https://cdn.akamai.steamstatic.com/steam/apps/...</td>\n",
       "      <td>http://cdn.akamai.steamstatic.com/steam/apps/2...</td>\n",
       "    </tr>\n",
       "    <tr>\n",
       "      <th>3</th>\n",
       "      <td>1355720</td>\n",
       "      <td>Henosis™</td>\n",
       "      <td>Jul 23, 2020</td>\n",
       "      <td>0 - 20000</td>\n",
       "      <td>0</td>\n",
       "      <td>0</td>\n",
       "      <td>5.99</td>\n",
       "      <td>0</td>\n",
       "      <td>HENOSIS™ is a mysterious 2D Platform Puzzler w...</td>\n",
       "      <td>['English', 'French', 'Italian', 'German', 'Sp...</td>\n",
       "      <td>...</td>\n",
       "      <td>0</td>\n",
       "      <td>0</td>\n",
       "      <td>0</td>\n",
       "      <td>Odd Critter Games</td>\n",
       "      <td>Odd Critter Games</td>\n",
       "      <td>Single-player,Full controller support</td>\n",
       "      <td>Adventure,Casual,Indie</td>\n",
       "      <td>2D Platformer,Atmospheric,Surreal,Mystery,Puzz...</td>\n",
       "      <td>https://cdn.akamai.steamstatic.com/steam/apps/...</td>\n",
       "      <td>http://cdn.akamai.steamstatic.com/steam/apps/2...</td>\n",
       "    </tr>\n",
       "    <tr>\n",
       "      <th>4</th>\n",
       "      <td>1139950</td>\n",
       "      <td>Two Weeks in Painland</td>\n",
       "      <td>Feb 3, 2020</td>\n",
       "      <td>0 - 20000</td>\n",
       "      <td>0</td>\n",
       "      <td>0</td>\n",
       "      <td>0.00</td>\n",
       "      <td>0</td>\n",
       "      <td>ABOUT THE GAME Play as a hacker who has arrang...</td>\n",
       "      <td>['English', 'Spanish - Spain']</td>\n",
       "      <td>...</td>\n",
       "      <td>0</td>\n",
       "      <td>0</td>\n",
       "      <td>0</td>\n",
       "      <td>Unusual Games</td>\n",
       "      <td>Unusual Games</td>\n",
       "      <td>Single-player,Steam Achievements</td>\n",
       "      <td>Adventure,Indie</td>\n",
       "      <td>Indie,Adventure,Nudity,Violent,Sexual Content,...</td>\n",
       "      <td>https://cdn.akamai.steamstatic.com/steam/apps/...</td>\n",
       "      <td>http://cdn.akamai.steamstatic.com/steam/apps/2...</td>\n",
       "    </tr>\n",
       "  </tbody>\n",
       "</table>\n",
       "<p>5 rows × 39 columns</p>\n",
       "</div>"
      ],
      "text/plain": [
       "     AppID                   Name  Release date Estimated owners  Peak CCU  \\\n",
       "0    20200       Galactic Bowling  Oct 21, 2008        0 - 20000         0   \n",
       "1   655370           Train Bandit  Oct 12, 2017        0 - 20000         0   \n",
       "2  1732930           Jolt Project  Nov 17, 2021        0 - 20000         0   \n",
       "3  1355720               Henosis™  Jul 23, 2020        0 - 20000         0   \n",
       "4  1139950  Two Weeks in Painland   Feb 3, 2020        0 - 20000         0   \n",
       "\n",
       "   Required age  Price  DLC count  \\\n",
       "0             0  19.99          0   \n",
       "1             0   0.99          0   \n",
       "2             0   4.99          0   \n",
       "3             0   5.99          0   \n",
       "4             0   0.00          0   \n",
       "\n",
       "                                      About the game  \\\n",
       "0  Galactic Bowling is an exaggerated and stylize...   \n",
       "1  THE LAW!! Looks to be a showdown atop a train....   \n",
       "2  Jolt Project: The army now has a new robotics ...   \n",
       "3  HENOSIS™ is a mysterious 2D Platform Puzzler w...   \n",
       "4  ABOUT THE GAME Play as a hacker who has arrang...   \n",
       "\n",
       "                                 Supported languages  ...  \\\n",
       "0                                        ['English']  ...   \n",
       "1  ['English', 'French', 'Italian', 'German', 'Sp...  ...   \n",
       "2                 ['English', 'Portuguese - Brazil']  ...   \n",
       "3  ['English', 'French', 'Italian', 'German', 'Sp...  ...   \n",
       "4                     ['English', 'Spanish - Spain']  ...   \n",
       "\n",
       "  Average playtime two weeks Median playtime forever  \\\n",
       "0                          0                       0   \n",
       "1                          0                       0   \n",
       "2                          0                       0   \n",
       "3                          0                       0   \n",
       "4                          0                       0   \n",
       "\n",
       "  Median playtime two weeks             Developers             Publishers  \\\n",
       "0                         0  Perpetual FX Creative  Perpetual FX Creative   \n",
       "1                         0           Rusty Moyher           Wild Rooster   \n",
       "2                         0          Campião Games          Campião Games   \n",
       "3                         0      Odd Critter Games      Odd Critter Games   \n",
       "4                         0          Unusual Games          Unusual Games   \n",
       "\n",
       "                                          Categories  \\\n",
       "0  Single-player,Multi-player,Steam Achievements,...   \n",
       "1  Single-player,Steam Achievements,Full controll...   \n",
       "2                                      Single-player   \n",
       "3              Single-player,Full controller support   \n",
       "4                   Single-player,Steam Achievements   \n",
       "\n",
       "                            Genres  \\\n",
       "0              Casual,Indie,Sports   \n",
       "1                     Action,Indie   \n",
       "2  Action,Adventure,Indie,Strategy   \n",
       "3           Adventure,Casual,Indie   \n",
       "4                  Adventure,Indie   \n",
       "\n",
       "                                                Tags  \\\n",
       "0                        Indie,Casual,Sports,Bowling   \n",
       "1  Indie,Action,Pixel Graphics,2D,Retro,Arcade,Sc...   \n",
       "2                                                NaN   \n",
       "3  2D Platformer,Atmospheric,Surreal,Mystery,Puzz...   \n",
       "4  Indie,Adventure,Nudity,Violent,Sexual Content,...   \n",
       "\n",
       "                                         Screenshots  \\\n",
       "0  https://cdn.akamai.steamstatic.com/steam/apps/...   \n",
       "1  https://cdn.akamai.steamstatic.com/steam/apps/...   \n",
       "2  https://cdn.akamai.steamstatic.com/steam/apps/...   \n",
       "3  https://cdn.akamai.steamstatic.com/steam/apps/...   \n",
       "4  https://cdn.akamai.steamstatic.com/steam/apps/...   \n",
       "\n",
       "                                              Movies  \n",
       "0  http://cdn.akamai.steamstatic.com/steam/apps/2...  \n",
       "1  http://cdn.akamai.steamstatic.com/steam/apps/2...  \n",
       "2  http://cdn.akamai.steamstatic.com/steam/apps/2...  \n",
       "3  http://cdn.akamai.steamstatic.com/steam/apps/2...  \n",
       "4  http://cdn.akamai.steamstatic.com/steam/apps/2...  \n",
       "\n",
       "[5 rows x 39 columns]"
      ]
     },
     "execution_count": 3,
     "metadata": {},
     "output_type": "execute_result"
    }
   ],
   "source": [
    "games.head()"
   ]
  },
  {
   "cell_type": "markdown",
   "metadata": {},
   "source": [
    "#### Data Cleaning "
   ]
  },
  {
   "cell_type": "markdown",
   "metadata": {},
   "source": [
    "##### Handling missing values"
   ]
  },
  {
   "cell_type": "code",
   "execution_count": null,
   "metadata": {},
   "outputs": [],
   "source": [
    "# Dropping specified columns with more than 85% missing values\n",
    "columns_to_drop = ['Reviews', 'Score rank', 'Metacritic url', 'Notes']\n",
    "for column in columns_to_drop:\n",
    "    if games[column].isnull().mean() > 0.85:\n",
    "        games.drop(column, axis=1, inplace=True)\n",
    "\n",
    "# Saving the modified dataset \n",
    "#games.to_csv(\"/Users/sheidamajidi/Desktop/Winter2024/COURSES/INSY695/Individual Assignments/ML1/SteamGames/games_cleaned.csv\", index=False) "
   ]
  },
  {
   "cell_type": "code",
   "execution_count": null,
   "metadata": {},
   "outputs": [],
   "source": [
    "# impute missing values\n",
    "\n",
    "from sklearn.experimental import enable_iterative_imputer\n",
    "from sklearn.impute import IterativeImputer\n",
    "\n",
    "# Select only numeric columns for imputation\n",
    "numeric_cols = games.select_dtypes(include=[np.number])\n",
    "\n",
    "iterative_imputer = IterativeImputer()\n",
    "imputed_data = iterative_imputer.fit_transform(numeric_cols)\n",
    "\n",
    "# Creating a DataFrame with the imputed data\n",
    "imputed_df = pd.DataFrame(imputed_data, columns=numeric_cols.columns)\n",
    "\n",
    "# Merging imputed numeric data back with non-numeric data\n",
    "games[numeric_cols.columns] = imputed_df\n"
   ]
  },
  {
   "cell_type": "code",
   "execution_count": null,
   "metadata": {},
   "outputs": [],
   "source": [
    "# Select only numeric columns\n",
    "numeric_columns = games.select_dtypes(include=[np.number]).columns\n",
    "\n",
    "# Print the list of numeric columns\n",
    "print(\"Numeric columns in the dataset:\")\n",
    "print(numeric_columns.tolist())"
   ]
  },
  {
   "cell_type": "markdown",
   "metadata": {},
   "source": [
    "##### Handling categorical columns"
   ]
  },
  {
   "cell_type": "code",
   "execution_count": null,
   "metadata": {},
   "outputs": [],
   "source": [
    "# Process the 'Suppported languages' column\n",
    "\n",
    "# Prepare numeric features (X) and target (y)\n",
    "# Include only numeric columns and 'Supported languages' as a categorical column\n",
    "numeric_cols = ['Required age', 'Price', 'DLC count', \n",
    "                 'Metacritic score', 'User score', 'Positive', 'Negative', 'Achievements', \n",
    "                 'Recommendations', 'Average playtime forever', 'Average playtime two weeks', \n",
    "                 'Median playtime forever', 'Median playtime two weeks']\n",
    "\n",
    "X = games[numeric_cols + ['Supported languages']]\n",
    "y = games['Peak CCU']\n",
    "\n",
    "from catboost import CatBoostRegressor\n",
    "\n",
    "model = CatBoostRegressor(cat_features=['Supported languages'], random_state=42)\n",
    "\n",
    "# Fit the model\n",
    "model.fit(X, y)\n"
   ]
  },
  {
   "cell_type": "code",
   "execution_count": null,
   "metadata": {},
   "outputs": [],
   "source": [
    "# Process the 'Full audio languages' column\n",
    "\n",
    "# Function to convert list of languages into a single string\n",
    "def concat_languages(lang_list):\n",
    "    return ', '.join(lang_list) if isinstance(lang_list, list) else lang_list\n",
    "\n",
    "# Apply the function to the 'Full audio languages' column\n",
    "games['Full audio languages'] = games['Full audio languages'].apply(concat_languages)\n",
    "\n",
    "# Prepare your features (X) and target (y)\n",
    "numeric_cols = ['Required age', 'Price', 'DLC count', \n",
    "                'Metacritic score', 'User score', 'Positive', 'Negative', \n",
    "                'Achievements', 'Recommendations', 'Average playtime forever', \n",
    "                'Average playtime two weeks', 'Median playtime forever', \n",
    "                'Median playtime two weeks']\n",
    "\n",
    "X = games[numeric_cols + ['Full audio languages']]\n",
    "y = games['Peak CCU']\n",
    "\n",
    "# Instantiate a CatBoost model\n",
    "model = CatBoostRegressor(cat_features=['Full audio languages'], random_state=42)\n",
    "\n",
    "# Fit the model\n",
    "model.fit(X, y)\n"
   ]
  },
  {
   "cell_type": "code",
   "execution_count": null,
   "metadata": {},
   "outputs": [],
   "source": [
    "# Process the 'Genres', 'Categories', and 'Tags' columns\n",
    "\n",
    "# Function to transform comma-separated strings into single strings\n",
    "def transform_column(col):\n",
    "    return col.apply(lambda x: x if isinstance(x, str) else '')\n",
    "\n",
    "# Apply the function to the 'Genres', 'Categories', and 'Tags' columns\n",
    "games['Genres'] = transform_column(games['Genres'])\n",
    "games['Categories'] = transform_column(games['Categories'])\n",
    "games['Tags'] = transform_column(games['Tags'])\n",
    "\n",
    "# Prepare features (X) and target (y)\n",
    "numeric_cols = ['Required age', 'Price', 'DLC count', \n",
    "                'Metacritic score', 'User score', 'Positive', 'Negative', \n",
    "                'Achievements', 'Recommendations', 'Average playtime forever', \n",
    "                'Average playtime two weeks', 'Median playtime forever', \n",
    "                'Median playtime two weeks']\n",
    "\n",
    "categorical_cols = ['Genres', 'Categories', 'Tags', 'Full audio languages']\n",
    "\n",
    "X = games[numeric_cols + categorical_cols]\n",
    "y = games['Peak CCU']\n",
    "\n",
    "# Instantiate a CatBoost model\n",
    "model = CatBoostRegressor(cat_features=categorical_cols, random_state=42)\n",
    "\n",
    "# Fit the model\n",
    "model.fit(X, y)\n"
   ]
  },
  {
   "cell_type": "code",
   "execution_count": null,
   "metadata": {},
   "outputs": [],
   "source": [
    "pd.set_option('display.max_columns', None)\n",
    "\n",
    "print(games.columns.tolist())\n",
    "\n",
    "# Reset pandas display options to default\n",
    "#pd.reset_option('display.max_columns')"
   ]
  },
  {
   "cell_type": "markdown",
   "metadata": {},
   "source": [
    "##### Identify and remove outliers "
   ]
  },
  {
   "cell_type": "code",
   "execution_count": null,
   "metadata": {},
   "outputs": [],
   "source": [
    "# Identify and remove outliers using Isolation Forest\n",
    "\n",
    "from sklearn.ensemble import IsolationForest\n",
    "\n",
    "# Selecting relevant numeric features\n",
    "feature_columns = ['Price', 'Required age', 'DLC count', 'Metacritic score',\n",
    "                   'User score', 'Positive', 'Negative', 'Achievements',\n",
    "                   'Recommendations', 'Average playtime forever',\n",
    "                   'Average playtime two weeks', 'Median playtime forever',\n",
    "                   'Median playtime two weeks']\n",
    "X = games_train[feature_columns]\n",
    "\n",
    "# Initialize and fit the Isolation Forest model\n",
    "isolation_forest = IsolationForest(random_state=42)\n",
    "outlier_pred = isolation_forest.fit_predict(X)\n",
    "\n",
    "# Filter out the outliers (outlier_pred == -1 indicates an outlier)\n",
    "games_train_filtered = games_train[outlier_pred != -1]\n",
    "\n",
    "# Optionally, save the filtered dataset to a new CSV file\n",
    "games_train_filtered.to_csv(\"games_without_outliers.csv\", index=False)\n"
   ]
  },
  {
   "cell_type": "code",
   "execution_count": null,
   "metadata": {},
   "outputs": [],
   "source": [
    "outlier_pred"
   ]
  },
  {
   "cell_type": "code",
   "execution_count": null,
   "metadata": {},
   "outputs": [],
   "source": [
    "# Outlier detection results\n",
    "\n",
    "# Count the number of outliers\n",
    "num_outliers = np.sum(outlier_pred == -1)\n",
    "num_normal = np.sum(outlier_pred == 1)\n",
    "\n",
    "print(f\"Number of Outliers: {num_outliers}\")\n",
    "print(f\"Number of Normal Observations: {num_normal}\")\n",
    "\n",
    "# Optionally, examine the outliers\n",
    "outliers = games_train[outlier_pred == -1]\n",
    "print(outliers[feature_columns])\n"
   ]
  },
  {
   "cell_type": "code",
   "execution_count": null,
   "metadata": {},
   "outputs": [],
   "source": [
    "# Filter out the outliers (outlier_pred == -1 indicates an outlier)\n",
    "games_train_filtered = games_train[outlier_pred != -1]\n",
    "\n",
    "# Save the filtered dataset to a new CSV file\n",
    "#games_filtered.to_csv(\"games_without_outliers.csv\", index=False)\n",
    "\n",
    "print(f\"Original Dataset Size: {len(games_train)}\")\n",
    "print(f\"Filtered Dataset Size: {len(games_train_filtered)}\")\n",
    "\n"
   ]
  },
  {
   "cell_type": "code",
   "execution_count": null,
   "metadata": {},
   "outputs": [],
   "source": [
    "## Drop unnecessary columns (not significant for predicting the target variable of Peak CCU)\n",
    "\n",
    "games_train_filtered = games_train_filtered.drop(columns=['AppID', 'Name', 'Estimated owners', 'Support url', 'Movies', \n",
    "                                              'Header image', 'Website', 'Support email', 'Screenshots',\n",
    "                                              'Metacritic score', 'User score', 'Achievements', 'Recommendations'])\n",
    "\n",
    "# Save the filtered dataset to a new CSV file\n",
    "games_train_filtered.to_csv(\"games_train_filtered.csv\", index=False)\n"
   ]
  },
  {
   "cell_type": "markdown",
   "metadata": {},
   "source": [
    "##### Handing text \"about the game\""
   ]
  },
  {
   "cell_type": "code",
   "execution_count": null,
   "metadata": {},
   "outputs": [],
   "source": [
    "games_train_filtered"
   ]
  },
  {
   "cell_type": "code",
   "execution_count": null,
   "metadata": {},
   "outputs": [],
   "source": [
    "games_train_filtered['About the game']\n"
   ]
  },
  {
   "cell_type": "code",
   "execution_count": null,
   "metadata": {},
   "outputs": [],
   "source": [
    "from sklearn.feature_extraction.text import CountVectorizer\n",
    "\n",
    "#import nltk\n",
    "import re\n",
    "#from nltk.tokenize import RegexpTokenizer\n",
    "def clean_text(text):\n",
    "    if isinstance(text, str):\n",
    "        # Remove special characters and convert to lowercase\n",
    "        text_cleaned = re.sub(r'[^a-zA-Z0-9 ]', '', text).lower()\n",
    "    else:\n",
    "        # If the value is missing, replace it with an empty string\n",
    "        text_cleaned = text\n",
    "    return text_cleaned\n",
    "\n",
    "#regexp = RegexpTokenizer('\\w+')\n",
    "games_train['cleaned_text'] = games_train_filtered['About the game'].apply(lambda x:clean_text(x))\n",
    "games_train['cleaned_text'] = games_train['cleaned_text'].fillna('no text')"
   ]
  },
  {
   "cell_type": "code",
   "execution_count": null,
   "metadata": {},
   "outputs": [],
   "source": [
    "vect = CountVectorizer(stop_words='english', max_features=1000)\n",
    "vect.fit_transform(games_train['cleaned_text']).toarray()"
   ]
  },
  {
   "cell_type": "markdown",
   "metadata": {},
   "source": [
    "##### Feature scaling"
   ]
  },
  {
   "cell_type": "code",
   "execution_count": null,
   "metadata": {},
   "outputs": [],
   "source": [
    "from sklearn.preprocessing import StandardScaler\n",
    "\n",
    "std_scaler = StandardScaler()\n",
    "scaler = StandardScaler()\n",
    "\n",
    "# Columns to scale\n",
    "columns_to_scale = ['DLC count', 'Positive', 'Negative','Score rank', 'Required age', 'Price']\n",
    "\n",
    "# Apply the scaler to these columns\n",
    "games_train_filtered[columns_to_scale] = scaler.fit_transform(games_train_filtered[columns_to_scale])\n"
   ]
  },
  {
   "cell_type": "markdown",
   "metadata": {},
   "source": [
    "##### PCA"
   ]
  },
  {
   "cell_type": "code",
   "execution_count": null,
   "metadata": {},
   "outputs": [],
   "source": [
    "from sklearn.decomposition import PCA\n",
    "\n",
    "\n",
    "pca_columns = ['DLC count', 'Positive', 'Negative','Score rank', 'Required age', 'Price']\n",
    "\n",
    "# Prepare the data for PCA\n",
    "data_for_pca = games_train_filtered[pca_columns]"
   ]
  },
  {
   "cell_type": "code",
   "execution_count": null,
   "metadata": {},
   "outputs": [],
   "source": [
    "n_features = data_for_pca.shape[1]  # Number of features\n",
    "components = np.arange(1, n_features + 1)\n",
    "variances = []\n",
    "\n",
    "for i in components:\n",
    "    pca = PCA(n_components=i)\n",
    "    pca.fit(data_for_pca)\n",
    "    total_variance = np.sum(pca.explained_variance_ratio_)\n",
    "    variances.append(total_variance)\n",
    "\n",
    "# Apply PCA with 5 components\n",
    "pca = PCA(n_components=5)\n",
    "train_pca = pd.DataFrame(pca.fit_transform(data_for_pca), index=games_train_filtered.index)\n",
    "\n",
    "# Display the first few rows of the transformed dataset\n",
    "train_pca.head()"
   ]
  },
  {
   "cell_type": "markdown",
   "metadata": {},
   "source": [
    "### Exloratory Data Analysis "
   ]
  },
  {
   "cell_type": "code",
   "execution_count": null,
   "metadata": {},
   "outputs": [],
   "source": [
    "# Visualize the correlation between numeric columns\n",
    "import seaborn as sns\n",
    "\n",
    "games['Peak CCU'] = pd.to_numeric(games['Peak CCU'], errors='coerce')\n",
    "\n",
    "# Select numeric columns and a few key encoded categorical columns for correlation\n",
    "selected_columns = ['Peak CCU', 'Price', 'Required age', 'DLC count', 'Metacritic score', \n",
    "                    'User score', 'Positive', 'Negative', 'Achievements', 'Recommendations','Average playtime forever',\n",
    "                    'Average playtime two weeks', 'Median playtime forever', 'Median playtime two weeks']\n",
    "\n",
    "\n",
    "correlations = games[selected_columns].corr()\n",
    "\n",
    "# Plot correlation heatmap\n",
    "plt.figure(figsize=(15, 10))\n",
    "sns.heatmap(correlations, annot=False, cmap='coolwarm')\n",
    "plt.title('Correlation Heatmap')\n",
    "plt.show()"
   ]
  },
  {
   "cell_type": "code",
   "execution_count": null,
   "metadata": {},
   "outputs": [],
   "source": [
    "corr_matrix = games.corr(numeric_only=True)"
   ]
  },
  {
   "cell_type": "code",
   "execution_count": null,
   "metadata": {},
   "outputs": [],
   "source": [
    "corr_matrix['Price'].sort_values(ascending=False)"
   ]
  },
  {
   "cell_type": "code",
   "execution_count": null,
   "metadata": {},
   "outputs": [],
   "source": [
    "games.plot(kind=\"scatter\", x='Peak CCU', y='Average playtime forever',\n",
    "             alpha=0.1, grid=True)\n",
    "plt.show()"
   ]
  },
  {
   "cell_type": "markdown",
   "metadata": {},
   "source": [
    "### Causal Inference"
   ]
  }
 ],
 "metadata": {
  "kernelspec": {
   "display_name": "Python 3",
   "language": "python",
   "name": "python3"
  },
  "language_info": {
   "codemirror_mode": {
    "name": "ipython",
    "version": 3
   },
   "file_extension": ".py",
   "mimetype": "text/x-python",
   "name": "python",
   "nbconvert_exporter": "python",
   "pygments_lexer": "ipython3",
   "version": "3.11.1"
  }
 },
 "nbformat": 4,
 "nbformat_minor": 2
}
